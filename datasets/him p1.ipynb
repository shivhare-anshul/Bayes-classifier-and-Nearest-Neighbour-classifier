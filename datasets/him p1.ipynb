{
 "cells": [
  {
   "cell_type": "code",
   "execution_count": 1,
   "id": "6ea70e04",
   "metadata": {},
   "outputs": [
    {
     "name": "stdout",
     "output_type": "stream",
     "text": [
      "Enter value of n 5\n",
      "Acuuracy obtained from Naive Bayes classifier is 0.525\n",
      "Acuuracy obtained from Nearest neighbour classifier is 0.57\n"
     ]
    },
    {
     "data": {
      "image/png": "[encoded data removed]",
      "text/plain": [
       "<Figure size 432x288 with 1 Axes>"
      ]
     },
     "metadata": {
      "needs_background": "light"
     },
     "output_type": "display_data"
    }
   ],
   "source": [
    "#importing all the required libraries\n",
    "import pandas as pd\n",
    "import sklearn\n",
    "from sklearn.utils import shuffle\n",
    "from sklearn.naive_bayes import GaussianNB\n",
    "from sklearn import metrics\n",
    "import statistics\n",
    "from sklearn.neighbors import KNeighborsClassifier\n",
    "import matplotlib.pyplot as plt\n",
    "\n",
    "#importing test train data in the form of dataframe\n",
    "df1=pd.read_csv(\"P1a_train_data_2D.txt\",header=None)\n",
    "df2=pd.read_csv(\"P1a_test_data_2D.txt\",header=None)\n",
    "\n",
    "#Number of data points required to build model from traiing data\n",
    "n=int(input('Enter value of n '))\n",
    "\n",
    "#Shuffling the test data\n",
    "df1 = shuffle(df1)\n",
    "X_train=df1.iloc[0:n,0:2]\n",
    "y_train=df1.iloc[0:n,2]\n",
    "X_test=df2.iloc[0:200,0:2]\n",
    "y_test=df2.iloc[0:200,2]\n",
    "#Naive bayes classifier\n",
    "gaus=GaussianNB()\n",
    "gaus.fit(X_train,y_train)\n",
    "y_pre_NB=gaus.predict(X_test)\n",
    "#Nearest Neighbour classifier\n",
    "knn = KNeighborsClassifier(n_neighbors=1, metric='euclidean')\n",
    "knn.fit(X_train,y_train)\n",
    "y_pre_KNN= knn.predict(X_test)\n",
    "\n",
    "#Comparing result\n",
    "print(f'Acuuracy obtained from Naive Bayes classifier is {metrics.accuracy_score(y_test,y_pre_NB)}')\n",
    "print(f'Acuuracy obtained from Nearest neighbour classifier is {metrics.accuracy_score(y_test,y_pre_KNN)}')\n",
    "\n",
    "#for i in range(200):\n",
    "    #if y_test[i]==y_pre_NB[i]:\n",
    "        #plt.scatter((X_test.iloc[[i],0]),(X_test.iloc[[i],1]),c='g',marker='o',s=10)\n",
    "    #else:\n",
    "        #plt.scatter((X_test.iloc[[i],0]),(X_test.iloc[[i],1]),c='r',marker='X',s=10)\n",
    "\n",
    "for i in range(200):\n",
    "    if y_test[i]==y_pre_KNN[i]:\n",
    "        plt.scatter((X_test.iloc[[i],0]),(X_test.iloc[[i],1]),c='g',marker='o',s=10)\n",
    "    else:\n",
    "        plt.scatter((X_test.iloc[[i],0]),(X_test.iloc[[i],1]),c='r',marker='X',s=10)\n",
    "\n",
    "plt.show()\n"
   ]
  },
  {
   "cell_type": "code",
   "execution_count": null,
   "id": "13f3fa5f",
   "metadata": {},
   "outputs": [],
   "source": []
  }
 ],
 "metadata": {
  "kernelspec": {
   "display_name": "Python 3",
   "language": "python",
   "name": "python3"
  },
  "language_info": {
   "codemirror_mode": {
    "name": "ipython",
    "version": 3
   },
   "file_extension": ".py",
   "mimetype": "text/x-python",
   "name": "python",
   "nbconvert_exporter": "python",
   "pygments_lexer": "ipython3",
   "version": "3.8.3"
  }
 },
 "nbformat": 4,
 "nbformat_minor": 5
}
